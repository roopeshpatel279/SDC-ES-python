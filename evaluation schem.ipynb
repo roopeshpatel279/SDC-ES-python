{
 "cells": [
  {
   "cell_type": "code",
   "execution_count": 2,
   "id": "def54481-5516-4230-bba5-90a33240c2ea",
   "metadata": {},
   "outputs": [
    {
     "name": "stdin",
     "output_type": "stream",
     "text": [
      "Enter your age:  35\n"
     ]
    },
    {
     "name": "stdout",
     "output_type": "stream",
     "text": [
      "Choose the time unit (months, weeks, days, hours, minutes, seconds): \n"
     ]
    },
    {
     "name": "stdin",
     "output_type": "stream",
     "text": [
      " days\n"
     ]
    },
    {
     "name": "stdout",
     "output_type": "stream",
     "text": [
      "You have lived for 12775 days.\n"
     ]
    }
   ],
   "source": [
    "class SurvivalDurationCalculator:\n",
    "    def __init__(self, age):\n",
    "        self.age = age\n",
    "\n",
    "    def calculate_duration(self, time_unit):\n",
    "        if time_unit == 'months':\n",
    "            return self.age * 12\n",
    "        elif time_unit == 'weeks':\n",
    "            return self.age * 52\n",
    "        elif time_unit == 'days':\n",
    "            return self.age * 365\n",
    "        elif time_unit == 'hours':\n",
    "            return self.age * 365 * 24\n",
    "        elif time_unit == 'minutes':\n",
    "            return self.age * 365 * 24 * 60\n",
    "        elif time_unit == 'seconds':\n",
    "            return self.age * 365 * 24 * 60 * 60\n",
    "        else:\n",
    "            return \"Invalid time unit\"\n",
    "\n",
    "    def display_duration(self, time_unit):\n",
    "        duration = self.calculate_duration(time_unit)\n",
    "        print(f\"You have lived for {duration} {time_unit}.\")\n",
    "\n",
    "# Example usage\n",
    "if __name__ == \"__main__\":\n",
    "    age = int(input(\"Enter your age: \"))\n",
    "    calculator = SurvivalDurationCalculator(age)\n",
    "    print(\"Choose the time unit (months, weeks, days, hours, minutes, seconds): \")\n",
    "    time_unit = input().lower()\n",
    "    calculator.display_duration(time_unit)"
   ]
  },
  {
   "cell_type": "code",
   "execution_count": null,
   "id": "be5899a5-a9c9-4701-b230-d037a853516c",
   "metadata": {},
   "outputs": [],
   "source": []
  }
 ],
 "metadata": {
  "kernelspec": {
   "display_name": "Python 3 (ipykernel)",
   "language": "python",
   "name": "python3"
  },
  "language_info": {
   "codemirror_mode": {
    "name": "ipython",
    "version": 3
   },
   "file_extension": ".py",
   "mimetype": "text/x-python",
   "name": "python",
   "nbconvert_exporter": "python",
   "pygments_lexer": "ipython3",
   "version": "3.12.4"
  }
 },
 "nbformat": 4,
 "nbformat_minor": 5
}
