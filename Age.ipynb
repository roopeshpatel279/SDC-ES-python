{
 "cells": [
  {
   "cell_type": "code",
   "execution_count": 8,
   "id": "b023d99b-7d26-4f00-8457-70a1e75bb3a6",
   "metadata": {},
   "outputs": [
    {
     "name": "stdin",
     "output_type": "stream",
     "text": [
      "Enter your age:  35\n"
     ]
    },
    {
     "name": "stdout",
     "output_type": "stream",
     "text": [
      "Choose the time unit (months, weeks, days, hours, minutes, seconds): \n"
     ]
    },
    {
     "name": "stdin",
     "output_type": "stream",
     "text": [
      " seconds\n"
     ]
    },
    {
     "name": "stdout",
     "output_type": "stream",
     "text": [
      "You have lived for 1103760000 seconds.\n"
     ]
    }
   ],
   "source": [
    "def calculate_duration(age, time_unit):\n",
    "    if time_unit == 'months':\n",
    "        return age * 12\n",
    "    elif time_unit == 'weeks':\n",
    "        return age * 52\n",
    "    elif time_unit == 'days':\n",
    "        return age * 365\n",
    "    elif time_unit == 'hours':\n",
    "        return age * 365 * 24\n",
    "    elif time_unit == 'minutes':\n",
    "        return age * 365 * 24 * 60\n",
    "    elif time_unit == 'seconds':\n",
    "        return age * 365 * 24 * 60 * 60\n",
    "    else:\n",
    "        return \"Invalid time unit\"\n",
    "\n",
    "def main():\n",
    "    age = int(input(\"Enter your age: \"))\n",
    "    print(\"Choose the time unit (months, weeks, days, hours, minutes, seconds): \")\n",
    "    time_unit = input().lower()\n",
    "    duration = calculate_duration(age, time_unit)\n",
    "    print(f\"You have lived for {duration} {time_unit}.\")\n",
    "\n",
    "if __name__ == \"__main__\":\n",
    "    main()"
   ]
  },
  {
   "cell_type": "code",
   "execution_count": null,
   "id": "6b18baff-03ee-49e9-b638-63efa7499c87",
   "metadata": {},
   "outputs": [],
   "source": []
  }
 ],
 "metadata": {
  "kernelspec": {
   "display_name": "Python 3 (ipykernel)",
   "language": "python",
   "name": "python3"
  },
  "language_info": {
   "codemirror_mode": {
    "name": "ipython",
    "version": 3
   },
   "file_extension": ".py",
   "mimetype": "text/x-python",
   "name": "python",
   "nbconvert_exporter": "python",
   "pygments_lexer": "ipython3",
   "version": "3.12.4"
  }
 },
 "nbformat": 4,
 "nbformat_minor": 5
}
